{
 "cells": [
  {
   "cell_type": "markdown",
   "metadata": {},
   "source": [
    "# Level 1:"
   ]
  },
  {
   "cell_type": "markdown",
   "metadata": {},
   "source": [
    "## Task 1: String Reversal"
   ]
  },
  {
   "cell_type": "code",
   "execution_count": 7,
   "metadata": {},
   "outputs": [
    {
     "name": "stdout",
     "output_type": "stream",
     "text": [
      "Reversed string: olleH\n"
     ]
    }
   ],
   "source": [
    "# String Reversal\n",
    "\n",
    "def reverse_string(s):\n",
    "    return s[::-1]\n",
    "\n",
    "# Example\n",
    "input_str = \"Hello\"\n",
    "print(\"Reversed string:\", reverse_string(input_str))\n"
   ]
  },
  {
   "cell_type": "markdown",
   "metadata": {},
   "source": [
    "## Task 2: Temperature Conversion"
   ]
  },
  {
   "cell_type": "code",
   "execution_count": 8,
   "metadata": {},
   "outputs": [
    {
     "name": "stdout",
     "output_type": "stream",
     "text": [
      "32.8 C\n",
      "Converted temperature: 91.04 Fahrenheit\n"
     ]
    }
   ],
   "source": [
    "# Temperature Conversion\n",
    "\n",
    "def convert_temperature(value, unit):\n",
    "    if unit.lower() == \"c\":\n",
    "        return (value * 9/5) + 32, \"Fahrenheit\"\n",
    "    elif unit.lower() == \"f\":\n",
    "        return (value - 32) * 5/9, \"Celsius\"\n",
    "    else:\n",
    "        return None, \"Invalid unit\"\n",
    "\n",
    "# Example\n",
    "temp = float(input(\"Enter temperature: \"))\n",
    "unit = input(\"Enter unit (C/F): \")\n",
    "print(temp, unit)\n",
    "converted, new_unit = convert_temperature(temp, unit)\n",
    "if converted is not None:\n",
    "    print(f\"Converted temperature: {converted:.2f} {new_unit}\")\n",
    "else:\n",
    "    print(\"Invalid input.\")\n"
   ]
  },
  {
   "cell_type": "markdown",
   "metadata": {},
   "source": [
    "## Task 3: Email Validator"
   ]
  },
  {
   "cell_type": "code",
   "execution_count": 10,
   "metadata": {},
   "outputs": [
    {
     "name": "stdout",
     "output_type": "stream",
     "text": [
      "james.com.np\n",
      "Invalid email.\n"
     ]
    }
   ],
   "source": [
    "# Email Validator\n",
    "\n",
    "import re\n",
    "\n",
    "def validate_email(email):\n",
    "    pattern = r'^[a-zA-Z0-9._%+-]+@[a-zA-Z0-9.-]+\\.[a-zA-Z]{2,}$'\n",
    "    return bool(re.match(pattern, email))\n",
    "\n",
    "# Example\n",
    "email = input(\"Enter an email address: \")\n",
    "print(email)\n",
    "if validate_email(email):\n",
    "    print(\"Valid email.\")\n",
    "else:\n",
    "    print(\"Invalid email.\")\n"
   ]
  },
  {
   "cell_type": "markdown",
   "metadata": {},
   "source": [
    "## Task 4: Calculator Program"
   ]
  },
  {
   "cell_type": "code",
   "execution_count": 11,
   "metadata": {},
   "outputs": [
    {
     "name": "stdout",
     "output_type": "stream",
     "text": [
      "12.0\n",
      "2.0\n",
      "Result: 24.0\n"
     ]
    }
   ],
   "source": [
    "# Calculator Program:\n",
    "\n",
    "def calculator(a, b, operator):\n",
    "    if operator == '+':\n",
    "        return a + b\n",
    "    elif operator == '-':\n",
    "        return a - b\n",
    "    elif operator == '*':\n",
    "        return a * b\n",
    "    elif operator == '/':\n",
    "        return a / b if b != 0 else \"Division by zero error\"\n",
    "    elif operator == '%':\n",
    "        return a % b\n",
    "    else:\n",
    "        return \"Invalid operator\"\n",
    "\n",
    "# Example\n",
    "num1 = float(input(\"Enter first number:\"))\n",
    "print(num1)\n",
    "num2 = float(input(\"Enter second number:\"))\n",
    "print(num2)\n",
    "op = input(\"Enter operator (+, -, *, /, %): \")\n",
    "result = calculator(num1, num2, op)\n",
    "print(\"Result:\", result)\n"
   ]
  },
  {
   "cell_type": "markdown",
   "metadata": {},
   "source": [
    "## Task 5: Palindrome Checker"
   ]
  },
  {
   "cell_type": "code",
   "execution_count": 13,
   "metadata": {},
   "outputs": [
    {
     "name": "stdout",
     "output_type": "stream",
     "text": [
      "racecar\n",
      "\"racecar\" is a palindrome.\n"
     ]
    }
   ],
   "source": [
    "# Palindrome Checker\n",
    "\n",
    "def is_palindrome(s):\n",
    "    \"\"\"Checks if the given string is a palindrome.\"\"\"\n",
    "    # Remove spaces and non-alphanumeric characters, and convert to lowercase\n",
    "    cleaned_string = ''.join(char.lower() for char in s if char.isalnum())\n",
    "    # Check if the cleaned string reads the same backward\n",
    "    return cleaned_string == cleaned_string[::-1]\n",
    "\n",
    "# Example Usage\n",
    "input_string = input(\"Enter a string to check if it's a palindrome: \")\n",
    "print(input_string)\n",
    "if is_palindrome(input_string):\n",
    "    print(f'\"{input_string}\" is a palindrome.')\n",
    "else:\n",
    "    print(f'\"{input_string}\" is not a palindrome.')\n"
   ]
  }
 ],
 "metadata": {
  "kernelspec": {
   "display_name": "GPU",
   "language": "python",
   "name": "python3"
  },
  "language_info": {
   "codemirror_mode": {
    "name": "ipython",
    "version": 3
   },
   "file_extension": ".py",
   "mimetype": "text/x-python",
   "name": "python",
   "nbconvert_exporter": "python",
   "pygments_lexer": "ipython3",
   "version": "3.9.21"
  }
 },
 "nbformat": 4,
 "nbformat_minor": 2
}
