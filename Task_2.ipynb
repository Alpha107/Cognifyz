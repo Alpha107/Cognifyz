{
 "cells": [
  {
   "cell_type": "markdown",
   "metadata": {},
   "source": [
    "# Level 2:"
   ]
  },
  {
   "cell_type": "markdown",
   "metadata": {},
   "source": [
    "## Task 1: Guessing Game"
   ]
  },
  {
   "cell_type": "code",
   "execution_count": 1,
   "metadata": {},
   "outputs": [
    {
     "name": "stdout",
     "output_type": "stream",
     "text": [
      "Guess a number between 1 and 100.\n",
      "Too low!\n",
      "Too low!\n",
      "Too low!\n",
      "Too low!\n",
      "Congratulations! You guessed it.\n"
     ]
    }
   ],
   "source": [
    "## Task 1: Guessing Game\n",
    "\n",
    "import random\n",
    "\n",
    "def guessing_game():\n",
    "    number = random.randint(1, 100)\n",
    "    print(\"Guess a number between 1 and 100.\")\n",
    "    while True:\n",
    "        guess = int(input(\"Your guess: \"))\n",
    "        if guess < number:\n",
    "            print(\"Too low!\")\n",
    "        elif guess > number:\n",
    "            print(\"Too high!\")\n",
    "        else:\n",
    "            print(\"Congratulations! You guessed it.\")\n",
    "            break\n",
    "\n",
    "guessing_game()\n"
   ]
  },
  {
   "cell_type": "markdown",
   "metadata": {},
   "source": [
    "## Task 2: Number Guesser"
   ]
  },
  {
   "cell_type": "code",
   "execution_count": 2,
   "metadata": {},
   "outputs": [
    {
     "name": "stdout",
     "output_type": "stream",
     "text": [
      "Guess a number between 12 and 60.\n",
      "You got it!\n"
     ]
    }
   ],
   "source": [
    "## Task 2: Number Guesser\n",
    "\n",
    "import random\n",
    "\n",
    "def number_guesser():\n",
    "    lower = int(input(\"Enter the lower bound: \"))\n",
    "    upper = int(input(\"Enter the upper bound: \"))\n",
    "    number = random.randint(lower, upper)\n",
    "    print(f\"Guess a number between {lower} and {upper}.\")\n",
    "    while True:\n",
    "        guess = int(input(\"Your guess: \"))\n",
    "        if guess < number:\n",
    "            print(\"Too low!\")\n",
    "        elif guess > number:\n",
    "            print(\"Too high!\")\n",
    "        else:\n",
    "            print(\"You got it!\")\n",
    "            break\n",
    "\n",
    "number_guesser()\n"
   ]
  },
  {
   "cell_type": "markdown",
   "metadata": {},
   "source": [
    "## Task 3: Password Strength Checker"
   ]
  },
  {
   "cell_type": "code",
   "execution_count": 3,
   "metadata": {},
   "outputs": [
    {
     "name": "stdout",
     "output_type": "stream",
     "text": [
      "James12345@#$%\n",
      "Password strength: Strong\n"
     ]
    }
   ],
   "source": [
    "## Task 3: Password Strength Checker\n",
    "\n",
    "import re\n",
    "\n",
    "def password_strength(password):\n",
    "    strength = 0\n",
    "    if len(password) >= 8:\n",
    "        strength += 1\n",
    "    if re.search(r'[A-Z]', password):\n",
    "        strength += 1\n",
    "    if re.search(r'[a-z]', password):\n",
    "        strength += 1\n",
    "    if re.search(r'[0-9]', password):\n",
    "        strength += 1\n",
    "    if re.search(r'[!@#$%^&*(),.?\":{}|<>]', password):\n",
    "        strength += 1\n",
    "    \n",
    "    if strength < 3:\n",
    "        return \"Weak\"\n",
    "    elif strength == 3 or strength == 4:\n",
    "        return \"Moderate\"\n",
    "    else:\n",
    "        return \"Strong\"\n",
    "\n",
    "# Example\n",
    "password = input(\"Enter a password: \")\n",
    "print(password)\n",
    "print(\"Password strength:\", password_strength(password))\n"
   ]
  },
  {
   "cell_type": "markdown",
   "metadata": {},
   "source": [
    "## Task 4: Fibonacci Sequence"
   ]
  },
  {
   "cell_type": "code",
   "execution_count": 4,
   "metadata": {},
   "outputs": [
    {
     "name": "stdout",
     "output_type": "stream",
     "text": [
      "Fibonacci sequence: [0, 1, 1, 2, 3, 5, 8, 13]\n"
     ]
    }
   ],
   "source": [
    "## Task 4: Fibonacci Sequence\n",
    "\n",
    "def fibonacci_sequence(n):\n",
    "    sequence = [0, 1]\n",
    "    for i in range(2, n):\n",
    "        sequence.append(sequence[-1] + sequence[-2])\n",
    "    return sequence[:n]\n",
    "\n",
    "# Example\n",
    "terms = int(input(\"Enter the number of terms: \"))\n",
    "print(\"Fibonacci sequence:\", fibonacci_sequence(terms))\n"
   ]
  },
  {
   "cell_type": "markdown",
   "metadata": {},
   "source": [
    "## Task 5: File Manipulation"
   ]
  },
  {
   "cell_type": "code",
   "execution_count": 7,
   "metadata": {},
   "outputs": [
    {
     "name": "stdout",
     "output_type": "stream",
     "text": [
      "Word Count Program\n",
      "\n",
      "Word Counts (Alphabetical Order):\n",
      "abashesh: 1\n",
      "am: 1\n",
      "amazing: 1\n",
      "hello: 2\n",
      "i: 1\n",
      "is: 1\n",
      "python: 2\n",
      "rana: 1\n",
      "world: 1\n"
     ]
    }
   ],
   "source": [
    "## Task 5: File Manipulation\n",
    "\n",
    "from collections import Counter\n",
    "\n",
    "def read_file(file_path):\n",
    "    \"\"\"Reads a file and returns its content.\"\"\"\n",
    "    try:\n",
    "        with open(file_path, 'r', encoding='utf-8') as file:\n",
    "            return file.read()\n",
    "    except FileNotFoundError:\n",
    "        print(f\"Error: The file at {file_path} does not exist.\")\n",
    "        return None\n",
    "    except PermissionError:\n",
    "        print(f\"Error: Permission denied for file {file_path}.\")\n",
    "        return None\n",
    "\n",
    "def count_words(text):\n",
    "    \"\"\"Counts the occurrences of each word in the text.\"\"\"\n",
    "    words = text.lower().split()\n",
    "    cleaned_words = [word.strip(\".,!?;:\\\"'()[]{}\") for word in words]\n",
    "    return Counter(cleaned_words)\n",
    "\n",
    "def display_word_counts(word_counts):\n",
    "    \"\"\"Displays word counts in alphabetical order.\"\"\"\n",
    "    print(\"\\nWord Counts (Alphabetical Order):\")\n",
    "    for word in sorted(word_counts):\n",
    "        print(f\"{word}: {word_counts[word]}\")\n",
    "\n",
    "def main():\n",
    "    print(\"Word Count Program\")\n",
    "    file_path = input(\"Enter the path to the text file: \")\n",
    "    text = read_file(file_path)\n",
    "\n",
    "    if text is None:\n",
    "        return\n",
    "\n",
    "    word_counts = count_words(text)\n",
    "    display_word_counts(word_counts)\n",
    "\n",
    "if __name__ == \"__main__\":\n",
    "    main()\n"
   ]
  }
 ],
 "metadata": {
  "kernelspec": {
   "display_name": "GPU",
   "language": "python",
   "name": "python3"
  },
  "language_info": {
   "codemirror_mode": {
    "name": "ipython",
    "version": 3
   },
   "file_extension": ".py",
   "mimetype": "text/x-python",
   "name": "python",
   "nbconvert_exporter": "python",
   "pygments_lexer": "ipython3",
   "version": "3.9.21"
  }
 },
 "nbformat": 4,
 "nbformat_minor": 2
}
